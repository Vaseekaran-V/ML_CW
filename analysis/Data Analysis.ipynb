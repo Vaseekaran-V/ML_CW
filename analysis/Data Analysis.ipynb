{
 "cells": [
  {
   "cell_type": "code",
   "execution_count": 13,
   "id": "ea950e2a-e41b-4443-967e-3d167172fca3",
   "metadata": {},
   "outputs": [],
   "source": [
    "import numpy as np\n",
    "import pandas as pd\n",
    "import matplotlib.pyplot as plt\n",
    "import seaborn as sns"
   ]
  },
  {
   "cell_type": "code",
   "execution_count": 20,
   "id": "d2565705-f934-444b-b97e-52e487968082",
   "metadata": {},
   "outputs": [
    {
     "data": {
      "text/html": [
       "<div>\n",
       "<style scoped>\n",
       "    .dataframe tbody tr th:only-of-type {\n",
       "        vertical-align: middle;\n",
       "    }\n",
       "\n",
       "    .dataframe tbody tr th {\n",
       "        vertical-align: top;\n",
       "    }\n",
       "\n",
       "    .dataframe thead th {\n",
       "        text-align: right;\n",
       "    }\n",
       "</style>\n",
       "<table border=\"1\" class=\"dataframe\">\n",
       "  <thead>\n",
       "    <tr style=\"text-align: right;\">\n",
       "      <th></th>\n",
       "      <th>date_id</th>\n",
       "      <th>item_dept</th>\n",
       "      <th>item_qty</th>\n",
       "      <th>net_sales</th>\n",
       "      <th>store</th>\n",
       "      <th>item</th>\n",
       "      <th>invoice_num</th>\n",
       "    </tr>\n",
       "  </thead>\n",
       "  <tbody>\n",
       "    <tr>\n",
       "      <th>0</th>\n",
       "      <td>11/1/2021</td>\n",
       "      <td>Grocery</td>\n",
       "      <td>1.0</td>\n",
       "      <td>160.0</td>\n",
       "      <td>XYZ</td>\n",
       "      <td>16620</td>\n",
       "      <td>1475459.0</td>\n",
       "    </tr>\n",
       "    <tr>\n",
       "      <th>1</th>\n",
       "      <td>11/1/2021</td>\n",
       "      <td>Grocery</td>\n",
       "      <td>2.0</td>\n",
       "      <td>480.0</td>\n",
       "      <td>XYZ</td>\n",
       "      <td>32365</td>\n",
       "      <td>1475459.0</td>\n",
       "    </tr>\n",
       "    <tr>\n",
       "      <th>2</th>\n",
       "      <td>11/1/2021</td>\n",
       "      <td>Grocery</td>\n",
       "      <td>1.0</td>\n",
       "      <td>127.0</td>\n",
       "      <td>XYZ</td>\n",
       "      <td>31349</td>\n",
       "      <td>1475459.0</td>\n",
       "    </tr>\n",
       "    <tr>\n",
       "      <th>3</th>\n",
       "      <td>11/1/2021</td>\n",
       "      <td>Household</td>\n",
       "      <td>2.0</td>\n",
       "      <td>110.0</td>\n",
       "      <td>XYZ</td>\n",
       "      <td>1266</td>\n",
       "      <td>1475475.0</td>\n",
       "    </tr>\n",
       "    <tr>\n",
       "      <th>4</th>\n",
       "      <td>11/1/2021</td>\n",
       "      <td>Household</td>\n",
       "      <td>1.0</td>\n",
       "      <td>150.0</td>\n",
       "      <td>XYZ</td>\n",
       "      <td>114920</td>\n",
       "      <td>1475475.0</td>\n",
       "    </tr>\n",
       "  </tbody>\n",
       "</table>\n",
       "</div>"
      ],
      "text/plain": [
       "     date_id  item_dept  item_qty  net_sales store    item  invoice_num\n",
       "0  11/1/2021    Grocery       1.0      160.0   XYZ   16620    1475459.0\n",
       "1  11/1/2021    Grocery       2.0      480.0   XYZ   32365    1475459.0\n",
       "2  11/1/2021    Grocery       1.0      127.0   XYZ   31349    1475459.0\n",
       "3  11/1/2021  Household       2.0      110.0   XYZ    1266    1475475.0\n",
       "4  11/1/2021  Household       1.0      150.0   XYZ  114920    1475475.0"
      ]
     },
     "execution_count": 20,
     "metadata": {},
     "output_type": "execute_result"
    }
   ],
   "source": [
    "df = pd.read_csv(r'../data/training_data.csv')\n",
    "df.head()"
   ]
  },
  {
   "cell_type": "code",
   "execution_count": 21,
   "id": "a2ae2af6-8a8a-43af-a7f0-d8211559579e",
   "metadata": {},
   "outputs": [],
   "source": [
    "df['date_id'] = pd.to_datetime(df['date_id'], format='%m/%d/%Y')"
   ]
  },
  {
   "cell_type": "code",
   "execution_count": 22,
   "id": "f8f46c52-0dd4-4117-9364-c3ee366654e1",
   "metadata": {},
   "outputs": [
    {
     "name": "stdout",
     "output_type": "stream",
     "text": [
      "<class 'pandas.core.frame.DataFrame'>\n",
      "RangeIndex: 614098 entries, 0 to 614097\n",
      "Data columns (total 7 columns):\n",
      " #   Column       Non-Null Count   Dtype         \n",
      "---  ------       --------------   -----         \n",
      " 0   date_id      614098 non-null  datetime64[ns]\n",
      " 1   item_dept    614098 non-null  object        \n",
      " 2   item_qty     614098 non-null  float64       \n",
      " 3   net_sales    614098 non-null  float64       \n",
      " 4   store        614098 non-null  object        \n",
      " 5   item         614098 non-null  int64         \n",
      " 6   invoice_num  591288 non-null  float64       \n",
      "dtypes: datetime64[ns](1), float64(3), int64(1), object(2)\n",
      "memory usage: 32.8+ MB\n"
     ]
    }
   ],
   "source": [
    "df.info()"
   ]
  },
  {
   "cell_type": "code",
   "execution_count": 23,
   "id": "513b076a-5a4b-4c2e-90cf-dd31e1dc54be",
   "metadata": {},
   "outputs": [
    {
     "data": {
      "text/html": [
       "<div>\n",
       "<style scoped>\n",
       "    .dataframe tbody tr th:only-of-type {\n",
       "        vertical-align: middle;\n",
       "    }\n",
       "\n",
       "    .dataframe tbody tr th {\n",
       "        vertical-align: top;\n",
       "    }\n",
       "\n",
       "    .dataframe thead th {\n",
       "        text-align: right;\n",
       "    }\n",
       "</style>\n",
       "<table border=\"1\" class=\"dataframe\">\n",
       "  <thead>\n",
       "    <tr style=\"text-align: right;\">\n",
       "      <th></th>\n",
       "      <th>date_id</th>\n",
       "      <th>item_qty</th>\n",
       "      <th>net_sales</th>\n",
       "      <th>item</th>\n",
       "      <th>invoice_num</th>\n",
       "    </tr>\n",
       "  </thead>\n",
       "  <tbody>\n",
       "    <tr>\n",
       "      <th>count</th>\n",
       "      <td>614098</td>\n",
       "      <td>614098.000000</td>\n",
       "      <td>614098.000000</td>\n",
       "      <td>614098.00000</td>\n",
       "      <td>5.912880e+05</td>\n",
       "    </tr>\n",
       "    <tr>\n",
       "      <th>mean</th>\n",
       "      <td>2021-12-16 16:21:54.693094912</td>\n",
       "      <td>1.533792</td>\n",
       "      <td>335.067969</td>\n",
       "      <td>67622.41479</td>\n",
       "      <td>4.231954e+06</td>\n",
       "    </tr>\n",
       "    <tr>\n",
       "      <th>min</th>\n",
       "      <td>2021-11-01 00:00:00</td>\n",
       "      <td>-59.000000</td>\n",
       "      <td>-15250.000000</td>\n",
       "      <td>906.00000</td>\n",
       "      <td>1.475419e+06</td>\n",
       "    </tr>\n",
       "    <tr>\n",
       "      <th>25%</th>\n",
       "      <td>2021-11-25 00:00:00</td>\n",
       "      <td>1.000000</td>\n",
       "      <td>124.000000</td>\n",
       "      <td>14340.00000</td>\n",
       "      <td>2.581947e+06</td>\n",
       "    </tr>\n",
       "    <tr>\n",
       "      <th>50%</th>\n",
       "      <td>2021-12-17 00:00:00</td>\n",
       "      <td>1.000000</td>\n",
       "      <td>215.000000</td>\n",
       "      <td>89725.00000</td>\n",
       "      <td>4.597865e+06</td>\n",
       "    </tr>\n",
       "    <tr>\n",
       "      <th>75%</th>\n",
       "      <td>2022-01-08 00:00:00</td>\n",
       "      <td>1.668000</td>\n",
       "      <td>371.000000</td>\n",
       "      <td>117021.00000</td>\n",
       "      <td>5.598286e+06</td>\n",
       "    </tr>\n",
       "    <tr>\n",
       "      <th>max</th>\n",
       "      <td>2022-01-31 00:00:00</td>\n",
       "      <td>880.000000</td>\n",
       "      <td>316880.280000</td>\n",
       "      <td>124146.00000</td>\n",
       "      <td>9.354809e+06</td>\n",
       "    </tr>\n",
       "    <tr>\n",
       "      <th>std</th>\n",
       "      <td>NaN</td>\n",
       "      <td>3.058092</td>\n",
       "      <td>824.733169</td>\n",
       "      <td>48909.65677</td>\n",
       "      <td>1.704178e+06</td>\n",
       "    </tr>\n",
       "  </tbody>\n",
       "</table>\n",
       "</div>"
      ],
      "text/plain": [
       "                             date_id       item_qty      net_sales  \\\n",
       "count                         614098  614098.000000  614098.000000   \n",
       "mean   2021-12-16 16:21:54.693094912       1.533792     335.067969   \n",
       "min              2021-11-01 00:00:00     -59.000000  -15250.000000   \n",
       "25%              2021-11-25 00:00:00       1.000000     124.000000   \n",
       "50%              2021-12-17 00:00:00       1.000000     215.000000   \n",
       "75%              2022-01-08 00:00:00       1.668000     371.000000   \n",
       "max              2022-01-31 00:00:00     880.000000  316880.280000   \n",
       "std                              NaN       3.058092     824.733169   \n",
       "\n",
       "               item   invoice_num  \n",
       "count  614098.00000  5.912880e+05  \n",
       "mean    67622.41479  4.231954e+06  \n",
       "min       906.00000  1.475419e+06  \n",
       "25%     14340.00000  2.581947e+06  \n",
       "50%     89725.00000  4.597865e+06  \n",
       "75%    117021.00000  5.598286e+06  \n",
       "max    124146.00000  9.354809e+06  \n",
       "std     48909.65677  1.704178e+06  "
      ]
     },
     "execution_count": 23,
     "metadata": {},
     "output_type": "execute_result"
    }
   ],
   "source": [
    "df.describe()"
   ]
  },
  {
   "cell_type": "code",
   "execution_count": 24,
   "id": "6dba0831-7055-4b09-ba4b-4cf783924ca9",
   "metadata": {},
   "outputs": [
    {
     "data": {
      "text/plain": [
       "item_dept\n",
       "Grocery      337991\n",
       "Household    153951\n",
       "Beverages    122156\n",
       "Name: count, dtype: int64"
      ]
     },
     "execution_count": 24,
     "metadata": {},
     "output_type": "execute_result"
    }
   ],
   "source": [
    "df['item_dept'].value_counts()"
   ]
  },
  {
   "cell_type": "code",
   "execution_count": 25,
   "id": "17ea93d8-7e01-4610-ab02-770f397c1755",
   "metadata": {},
   "outputs": [
    {
     "data": {
      "text/plain": [
       "store\n",
       "XYZ    340659\n",
       "ABC    273439\n",
       "Name: count, dtype: int64"
      ]
     },
     "execution_count": 25,
     "metadata": {},
     "output_type": "execute_result"
    }
   ],
   "source": [
    "df['store'].value_counts()"
   ]
  },
  {
   "cell_type": "code",
   "execution_count": 26,
   "id": "01ce4454-d161-43f7-aae1-6484c14e1795",
   "metadata": {},
   "outputs": [
    {
     "data": {
      "text/plain": [
       "item\n",
       "9609      7852\n",
       "22344     7769\n",
       "1974      6245\n",
       "14597     5445\n",
       "996       4678\n",
       "          ... \n",
       "115540       1\n",
       "108705       1\n",
       "123449       1\n",
       "22315        1\n",
       "112017       1\n",
       "Name: count, Length: 5143, dtype: int64"
      ]
     },
     "execution_count": 26,
     "metadata": {},
     "output_type": "execute_result"
    }
   ],
   "source": [
    "df['item'].value_counts()"
   ]
  },
  {
   "cell_type": "code",
   "execution_count": 27,
   "id": "d94bb622-b071-4c3d-9157-a0d33f7a2b77",
   "metadata": {},
   "outputs": [
    {
     "data": {
      "text/plain": [
       "invoice_num\n",
       "3129061.0    108\n",
       "3136241.0     98\n",
       "7125274.0     95\n",
       "3438647.0     95\n",
       "3139627.0     93\n",
       "            ... \n",
       "1476768.0      1\n",
       "1476538.0      1\n",
       "1476495.0      1\n",
       "1476402.0      1\n",
       "1475593.0      1\n",
       "Name: count, Length: 136756, dtype: int64"
      ]
     },
     "execution_count": 27,
     "metadata": {},
     "output_type": "execute_result"
    }
   ],
   "source": [
    "df['invoice_num'].value_counts()"
   ]
  },
  {
   "cell_type": "code",
   "execution_count": 28,
   "id": "422b7b1b-52d7-4b5a-add6-25ffe0c1017d",
   "metadata": {},
   "outputs": [
    {
     "data": {
      "text/plain": [
       "date_id\n",
       "2021-12-31    10752\n",
       "2021-12-24     8840\n",
       "2021-11-28     8541\n",
       "2021-12-30     8171\n",
       "2021-11-27     8031\n",
       "              ...  \n",
       "2021-11-23     5447\n",
       "2022-01-05     5415\n",
       "2021-11-22     5315\n",
       "2022-01-03     5274\n",
       "2021-11-24     5027\n",
       "Name: count, Length: 92, dtype: int64"
      ]
     },
     "execution_count": 28,
     "metadata": {},
     "output_type": "execute_result"
    }
   ],
   "source": [
    "df['date_id'].value_counts()"
   ]
  },
  {
   "cell_type": "code",
   "execution_count": null,
   "id": "aebd4b35-ddf1-4b63-913a-e53eb52ce149",
   "metadata": {},
   "outputs": [],
   "source": []
  }
 ],
 "metadata": {
  "kernelspec": {
   "display_name": "Python 3 (ipykernel)",
   "language": "python",
   "name": "python3"
  },
  "language_info": {
   "codemirror_mode": {
    "name": "ipython",
    "version": 3
   },
   "file_extension": ".py",
   "mimetype": "text/x-python",
   "name": "python",
   "nbconvert_exporter": "python",
   "pygments_lexer": "ipython3",
   "version": "3.10.14"
  }
 },
 "nbformat": 4,
 "nbformat_minor": 5
}
