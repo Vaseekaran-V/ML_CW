{
 "cells": [
  {
   "cell_type": "code",
   "execution_count": null,
   "metadata": {},
   "outputs": [],
   "source": [
    "def create_lag_features(df, feature_name, num_lags = 1):\n",
    "    '''\n",
    "    Creating lag features for the specified field.\n",
    "    Inputs:\n",
    "        df: dataframe (sorted by date)\n",
    "        feature_name: name of the feature to create the lag feature\n",
    "        num_lags: number of lag features need to be created (default is 1). If more than 1, the specified num of features would be created\n",
    "\n",
    "    Output:\n",
    "        dataframe with the created lag features\n",
    "    '''\n",
    "    for i in range(num_lags):\n",
    "        df[f'lag_{feature_name}_{i+1}'] = df.groupby(['item_dept', 'store'])[feature_name].shift(i+1)\n",
    "\n",
    "    return df\n"
   ]
  },
  {
   "cell_type": "code",
   "execution_count": null,
   "metadata": {},
   "outputs": [],
   "source": [
    "def create_rolling_window_features(df, feature_name, window_size = 2, std_dev = True, use_lag = True):\n",
    "    '''\n",
    "    Creating rolling window features (mean and, if required, standard deviation) of a feature for a specified window size\n",
    "    Inputs:\n",
    "        df: dataframe (sorted by date)\n",
    "        feature_name: name of the feature to create the rolling window features\n",
    "        window_size: the length of the previous time steps to consider to create the feature\n",
    "        std_dev: whether to create the standard deviation feature as well (default is True)\n",
    "        use_lag: whether to use lag feature to create the feature (default is True). Uses just one lag\n",
    "\n",
    "    return:\n",
    "        dataframe with the initial features and the created rolling window features\n",
    "    '''\n",
    "    if use_lag:\n",
    "        df[f'rolling_mean_{feature_name}_{window_size}'] = df.groupby(['item_dept', 'store'])[f'lag_{feature_name}_1'].transform(lambda x: x.rolling(window=window_size).mean())\n",
    "\n",
    "        if std_dev:\n",
    "            df[f'rolling_std_{feature_name}_{window_size}'] = df.groupby(['item_dept', 'store'])[f'lag_{feature_name}_1'].transform(lambda x: x.rolling(window=window_size).std())\n",
    "\n",
    "        return df\n",
    "    else:\n",
    "        print(\"Function not yet designed to use without lag features\")\n",
    "        return None\n",
    "\n"
   ]
  },
  {
   "cell_type": "code",
   "execution_count": null,
   "metadata": {},
   "outputs": [],
   "source": [
    "def create_cumulative_features(df, feature_name, cum_mean = True, cum_sum = True, use_lag = True):\n",
    "    '''\n",
    "    Creating cumulative features for the specified field.\n",
    "    Inputs:\n",
    "        df: dataframe (sorted by date)\n",
    "        feature_name: name of the feature to create the cumulative feature\n",
    "        cum_mean: whether the cumulative mean is required\n",
    "        cum_sum: whether the cumulative sum is required\n",
    "        use_lag: whether to use lag feature to create the feature (default is True). Uses just one lag\n",
    "    \n",
    "        Output:\n",
    "            dataframe with the create cumulative feature\n",
    "    '''\n",
    "    if use_lag:\n",
    "        if cum_sum:\n",
    "            df[f'cumsum_{feature_name}'] = df.groupby(['item_dept', 'store'])[f'lag_{feature_name}_1'].cumsum()\n",
    "        if cum_mean:\n",
    "            df[f'cummean_{feature_name}'] = df.groupby(['item_dept', 'store'])[f'lag_{feature_name}_1'].expanding().mean().reset_index(drop=True)\n",
    "        \n",
    "        if cum_mean == False and cum_sum == False:\n",
    "            print(\"At least one parameter (cum_sum or cum_mean) should be True\")\n",
    "            return None\n",
    "        return df\n",
    "    else:\n",
    "        print(\"Function not yet designed to use without lag features\")\n",
    "        return None\n"
   ]
  },
  {
   "cell_type": "code",
   "execution_count": null,
   "metadata": {},
   "outputs": [],
   "source": [
    "def create_time_based_features(df, date_col):\n",
    "    import holidays\n",
    "    '''\n",
    "    Function to create time based features\n",
    "    Inputs:\n",
    "        df: dataframe with date column\n",
    "        date_col: specify the date column (make sure it is in datetime format)\n",
    "\n",
    "    Output:\n",
    "        dataframe with created features based time\n",
    "    '''\n",
    "    # Day of the week (0=Monday, 6=Sunday)\n",
    "    df['day_of_week'] = df[date_col].dt.dayofweek\n",
    "\n",
    "    # Is weekend (1=Weekend, 0=Weekday)\n",
    "    df['isWeekend'] = df[date_col].dt.dayofweek >= 5\n",
    "\n",
    "    #Is holiday (1=Holiday, 0=No Holiday). Assuming this store is in US\n",
    "    us_holidays = holidays.US(years=[2021, 2022])\n",
    "    df['Is_Holiday'] = df[date_col].apply(lambda x: x in us_holidays).astype(int)\n",
    "\n",
    "    return df"
   ]
  },
  {
   "cell_type": "code",
   "execution_count": 3,
   "metadata": {},
   "outputs": [
    {
     "name": "stdout",
     "output_type": "stream",
     "text": [
      "1\n",
      "2\n",
      "3\n"
     ]
    }
   ],
   "source": [
    "for i in range(3):\n",
    "    print(i+1)"
   ]
  },
  {
   "cell_type": "code",
   "execution_count": 4,
   "metadata": {},
   "outputs": [
    {
     "data": {
      "text/plain": [
       "'use_lag'"
      ]
     },
     "execution_count": 4,
     "metadata": {},
     "output_type": "execute_result"
    }
   ],
   "source": [
    "'use'+'_'+'lag'"
   ]
  },
  {
   "cell_type": "code",
   "execution_count": null,
   "metadata": {},
   "outputs": [],
   "source": []
  }
 ],
 "metadata": {
  "kernelspec": {
   "display_name": "nibm_ml",
   "language": "python",
   "name": "python3"
  },
  "language_info": {
   "codemirror_mode": {
    "name": "ipython",
    "version": 3
   },
   "file_extension": ".py",
   "mimetype": "text/x-python",
   "name": "python",
   "nbconvert_exporter": "python",
   "pygments_lexer": "ipython3",
   "version": "3.10.14"
  }
 },
 "nbformat": 4,
 "nbformat_minor": 2
}
