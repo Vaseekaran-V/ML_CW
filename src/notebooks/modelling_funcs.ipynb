{
 "cells": [
  {
   "cell_type": "code",
   "execution_count": null,
   "metadata": {},
   "outputs": [],
   "source": [
    "def create_lag_features(df, feature_name, num_lags = 1):\n",
    "    '''\n",
    "    Creating lag features for the specified field.\n",
    "    Inputs:\n",
    "        df: dataframe (sorted by date)\n",
    "        feature_name: name of the feature to create the lag feature\n",
    "        num_lags: number of lag features need to be created (default is 1). If more than 1, the specified num of features would be created\n",
    "\n",
    "    Output:\n",
    "        dataframe with the created lag features\n",
    "    '''\n",
    "    df_process = df.copy()\n",
    "\n",
    "    for i in range(num_lags):\n",
    "        df_process[f'lag_{feature_name}_{i+1}'] = df_process.groupby(['item_dept', 'store'])[feature_name].shift(i+1)\n",
    "\n",
    "    return df_process\n"
   ]
  },
  {
   "cell_type": "code",
   "execution_count": null,
   "metadata": {},
   "outputs": [],
   "source": [
    "def create_rolling_window_features(df, feature_name, window_size = 2, std_dev = True, use_lag = True):\n",
    "    '''\n",
    "    Creating rolling window features (mean and, if required, standard deviation) of a feature for a specified window size\n",
    "    Inputs:\n",
    "        df: dataframe (sorted by date)\n",
    "        feature_name: name of the feature to create the rolling window features\n",
    "        window_size: the length of the previous time steps to consider to create the feature\n",
    "        std_dev: whether to create the standard deviation feature as well (default is True)\n",
    "        use_lag: whether to use lag feature to create the feature (default is True). Uses just one lag\n",
    "\n",
    "    return:\n",
    "        dataframe with the initial features and the created rolling window features\n",
    "    '''\n",
    "\n",
    "    df_process = df.copy()\n",
    "\n",
    "    if use_lag:\n",
    "        df_process[f'rolling_mean_{feature_name}_{window_size}'] = df_process.groupby(['item_dept', 'store'])[f'lag_{feature_name}_1'].transform(lambda x: x.rolling(window=window_size).mean())\n",
    "\n",
    "        if std_dev:\n",
    "            df_process[f'rolling_std_{feature_name}_{window_size}'] = df_process.groupby(['item_dept', 'store'])[f'lag_{feature_name}_1'].transform(lambda x: x.rolling(window=window_size).std())\n",
    "\n",
    "        return df_process\n",
    "    else:\n",
    "        print(\"Function not yet designed to use without lag features\")\n",
    "        return None\n",
    "\n"
   ]
  },
  {
   "cell_type": "code",
   "execution_count": null,
   "metadata": {},
   "outputs": [],
   "source": [
    "def create_cumulative_features(df, feature_name, cum_mean = True, cum_sum = True, use_lag = True):\n",
    "    '''\n",
    "    Creating cumulative features for the specified field.\n",
    "    Inputs:\n",
    "        df: dataframe (sorted by date)\n",
    "        feature_name: name of the feature to create the cumulative feature\n",
    "        cum_mean: whether the cumulative mean is required\n",
    "        cum_sum: whether the cumulative sum is required\n",
    "        use_lag: whether to use lag feature to create the feature (default is True). Uses just one lag\n",
    "    \n",
    "        Output:\n",
    "            dataframe with the create cumulative feature\n",
    "    '''\n",
    "\n",
    "    df_process = df.copy()\n",
    "\n",
    "    if use_lag:\n",
    "        if cum_sum:\n",
    "            df_process[f'cumsum_{feature_name}'] = df_process.groupby(['item_dept', 'store'])[f'lag_{feature_name}_1'].cumsum()\n",
    "        if cum_mean:\n",
    "            df_process[f'cummean_{feature_name}'] = df_process.groupby(['item_dept', 'store'])[f'lag_{feature_name}_1'].cumsum() / df_process.groupby(['store', 'item_dept'])[f'lag_{feature_name}_1'].cumcount()\n",
    "        \n",
    "        if cum_mean == False and cum_sum == False:\n",
    "            print(\"At least one parameter (cum_sum or cum_mean) should be True\")\n",
    "            return None\n",
    "        return df_process\n",
    "    else:\n",
    "        print(\"Function not yet designed to use without lag features\")\n",
    "        return None\n"
   ]
  },
  {
   "cell_type": "code",
   "execution_count": null,
   "metadata": {},
   "outputs": [],
   "source": [
    "def create_time_based_features(df, date_col, years = [2021, 2022]):\n",
    "    import holidays\n",
    "    '''\n",
    "    Function to create time based features\n",
    "    Inputs:\n",
    "        df: dataframe with date column\n",
    "        date_col: specify the date column (make sure it is in datetime format)\n",
    "        years: list of years to get the holidays\n",
    "\n",
    "    Output:\n",
    "        dataframe with created features based time\n",
    "    '''\n",
    "\n",
    "    df_process = df.copy()\n",
    "\n",
    "    # Day of the week (0=Monday, 6=Sunday)\n",
    "    df_process['day_of_week'] = df_process[date_col].dt.dayofweek\n",
    "\n",
    "    # Is weekend (1=Weekend, 0=Weekday)\n",
    "    df_process['isWeekend'] = df_process[date_col].dt.dayofweek >= 5\n",
    "\n",
    "    #Is holiday (1=Holiday, 0=No Holiday). Assuming this store is in US\n",
    "    us_holidays = holidays.US(years=years)\n",
    "    df_process['Is_Holiday'] = df_process[date_col].apply(lambda x: x in us_holidays).astype(int)\n",
    "\n",
    "    return df_process"
   ]
  },
  {
   "cell_type": "code",
   "execution_count": null,
   "metadata": {},
   "outputs": [],
   "source": [
    "def create_expanding_window_features(df, feature_name, return_min = True, return_max = True, use_lag = True):\n",
    "    '''\n",
    "    Function to create expanding window features (that is get the max and min) while the window expands\n",
    "\n",
    "    Inputs:\n",
    "        df: dataframe (sorted by date)\n",
    "        feature_name: name of feature to create expanding window feature\n",
    "        return_min: whether to return the minimum across the expanding window\n",
    "        return_max: whether to return the maximum across the expanding window\n",
    "        use_lag: whether to use lag feature to create the feature (default is True). Uses just one lag\n",
    "\n",
    "    Outputs:\n",
    "        dataframe with created features\n",
    "    '''\n",
    "\n",
    "    df_process = df.copy()\n",
    "\n",
    "    if use_lag:\n",
    "        if return_min:\n",
    "            df_process[f'expanding_min_{feature_name}'] = df_process.groupby(['item_dept', 'store'])[f'lag_{feature_name}_1'].cummin()\n",
    "        if return_max:\n",
    "            df_process[f'expanding_max_{feature_name}'] = df_process.groupby(['item_dept', 'store'])[f'lag_{feature_name}_1'].cummax()\n",
    "\n",
    "        if return_min == False and return_max == False:\n",
    "            print(\"At least one parameter (return_min or return_max) should be True\")\n",
    "            return None\n",
    "        return df_process\n",
    "    \n",
    "    else:\n",
    "        print(\"Function not yet designed to use without lag features\")\n",
    "        return None\n"
   ]
  },
  {
   "cell_type": "code",
   "execution_count": null,
   "metadata": {},
   "outputs": [],
   "source": [
    "def create_daily_weekly_differencing(df, feature_name, week_window_size = 7, use_lag = True):\n",
    "    '''\n",
    "    Function to create daily and weekly difference features (difference between next 2 values or weekly values)\n",
    "    Inputs:\n",
    "        df: dataframe (sorted by date)\n",
    "        feature_name: name of feature to create expanding window feature\n",
    "        week_window_size: size of the week window (default is 7)\n",
    "        use_lag: whether to use lag feature to create the feature (default is True). Uses just one lag\n",
    "    '''\n",
    "\n",
    "    df_process = df.copy()\n",
    "\n",
    "    if use_lag:\n",
    "        df_process[f'diff_{feature_name}'] = df_process.groupby(['item_dept', 'store'])[f'lag_{feature_name}_1'].diff()\n",
    "\n",
    "        df_process[f'diff_{feature_name}_{week_window_size}'] = df_process.groupby(['item_dept', 'store'])['item_qty'].diff(week_window_size)\n",
    "\n",
    "        return df_process\n",
    "    \n",
    "    else:\n",
    "        print(\"Function not yet designed to use without lag features\")\n",
    "        return None\n"
   ]
  },
  {
   "cell_type": "code",
   "execution_count": 3,
   "metadata": {},
   "outputs": [
    {
     "name": "stdout",
     "output_type": "stream",
     "text": [
      "1\n",
      "2\n",
      "3\n"
     ]
    }
   ],
   "source": [
    "for i in range(3):\n",
    "    print(i+1)"
   ]
  },
  {
   "cell_type": "code",
   "execution_count": 4,
   "metadata": {},
   "outputs": [
    {
     "data": {
      "text/plain": [
       "'use_lag'"
      ]
     },
     "execution_count": 4,
     "metadata": {},
     "output_type": "execute_result"
    }
   ],
   "source": [
    "'use'+'_'+'lag'"
   ]
  },
  {
   "cell_type": "code",
   "execution_count": null,
   "metadata": {},
   "outputs": [],
   "source": []
  }
 ],
 "metadata": {
  "kernelspec": {
   "display_name": "nibm_ml",
   "language": "python",
   "name": "python3"
  },
  "language_info": {
   "codemirror_mode": {
    "name": "ipython",
    "version": 3
   },
   "file_extension": ".py",
   "mimetype": "text/x-python",
   "name": "python",
   "nbconvert_exporter": "python",
   "pygments_lexer": "ipython3",
   "version": "3.10.14"
  }
 },
 "nbformat": 4,
 "nbformat_minor": 2
}
